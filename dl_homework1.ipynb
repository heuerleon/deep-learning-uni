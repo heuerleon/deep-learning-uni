{
 "cells": [
  {
   "cell_type": "code",
   "execution_count": 1,
   "id": "7493800d-3a10-45c7-b86e-f723e756c81e",
   "metadata": {},
   "outputs": [],
   "source": [
    "import torch"
   ]
  },
  {
   "cell_type": "code",
   "execution_count": 2,
   "id": "21f87052-43f4-463a-bc6f-7b024e0f98d7",
   "metadata": {},
   "outputs": [
    {
     "data": {
      "text/plain": [
       "'2.4.1'"
      ]
     },
     "execution_count": 2,
     "metadata": {},
     "output_type": "execute_result"
    }
   ],
   "source": [
    "torch.__version__"
   ]
  },
  {
   "cell_type": "code",
   "execution_count": 3,
   "id": "297fd58a-d3da-4e9a-b9de-e66882e39cf7",
   "metadata": {},
   "outputs": [
    {
     "name": "stdout",
     "output_type": "stream",
     "text": [
      "Jupyter Notebook is running\n"
     ]
    }
   ],
   "source": [
    "print(\"Jupyter Notebook is running\")"
   ]
  },
  {
   "cell_type": "code",
   "execution_count": 4,
   "id": "725adfa8-2db8-4a01-a8ba-3e85fda6c59a",
   "metadata": {},
   "outputs": [],
   "source": [
    "a = 100\n",
    "b = 5"
   ]
  },
  {
   "cell_type": "code",
   "execution_count": 5,
   "id": "d9a2d475-0121-4811-8305-f69525e9013c",
   "metadata": {},
   "outputs": [
    {
     "data": {
      "text/plain": [
       "500"
      ]
     },
     "execution_count": 5,
     "metadata": {},
     "output_type": "execute_result"
    }
   ],
   "source": [
    "a*b"
   ]
  }
 ],
 "metadata": {
  "kernelspec": {
   "display_name": "Python 3 (ipykernel)",
   "language": "python",
   "name": "python3"
  },
  "language_info": {
   "codemirror_mode": {
    "name": "ipython",
    "version": 3
   },
   "file_extension": ".py",
   "mimetype": "text/x-python",
   "name": "python",
   "nbconvert_exporter": "python",
   "pygments_lexer": "ipython3",
   "version": "3.12.4"
  }
 },
 "nbformat": 4,
 "nbformat_minor": 5
}
